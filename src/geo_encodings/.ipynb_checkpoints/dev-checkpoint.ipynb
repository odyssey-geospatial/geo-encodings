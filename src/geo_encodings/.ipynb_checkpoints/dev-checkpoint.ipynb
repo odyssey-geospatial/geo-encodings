{
 "cells": [
  {
   "cell_type": "code",
   "execution_count": null,
   "id": "c5a340a7-8eee-448e-b802-be08e5c7bdbe",
   "metadata": {},
   "outputs": [],
   "source": [
    "# For development and testing"
   ]
  },
  {
   "cell_type": "code",
   "execution_count": null,
   "id": "ac39578f-15be-46dd-aee8-aa956a80b666",
   "metadata": {},
   "outputs": [],
   "source": [
    "import shapely\n",
    "import encoders"
   ]
  },
  {
   "cell_type": "code",
   "execution_count": null,
   "id": "3e7c9214-7d7f-49c6-874a-06b41f2db8fe",
   "metadata": {},
   "outputs": [],
   "source": [
    "x0, y0 = 0, 0\n",
    "x1, y1 = 400, 300\n",
    "resolution = 100\n",
    "encoder = encoders.DIVEncoder([x0, y0, x1, y1], resolution)\n",
    "print('%d tiles in encoder' % encoder.n_tiles)"
   ]
  },
  {
   "cell_type": "code",
   "execution_count": null,
   "id": "57294eae-4881-4d3c-9d9b-19a0882ee067",
   "metadata": {},
   "outputs": [],
   "source": [
    "encoder.tiles"
   ]
  },
  {
   "cell_type": "code",
   "execution_count": null,
   "id": "2850749a-0717-42e7-950b-100e82fd623b",
   "metadata": {},
   "outputs": [],
   "source": [
    "# g = shapely.wkt.loads('POINT(287 122)')\n",
    "# g = shapely.wkt.loads('LINESTRING(40 70, 160 110, 213 190, 285 205)')\n",
    "# g = shapely.wkt.loads('POLYGON((70 20, 210 105, 127 240, 70 20))')\n",
    "\n",
    "# g = shapely.wkt.loads('MULTIPOINT(287 122, 113 207)')\n",
    "# g = shapely.wkt.loads('MULTILINESTRING((40 70, 160 110, 213 190, 285 205), (220 140, 305 110, 345 30))')\n",
    "g = shapely.wkt.loads('MULTIPOLYGON(((70 20, 210 105, 127 240, 70 20)), ((260 225, 270 170, 330 95, 335 185, 260 225)))')\n"
   ]
  },
  {
   "cell_type": "code",
   "execution_count": null,
   "id": "47a30349-3cae-4952-9d63-124af05b9a80",
   "metadata": {},
   "outputs": [],
   "source": [
    "g = shapely.from_wkt('"
   ]
  }
 ],
 "metadata": {
  "kernelspec": {
   "display_name": "Python 3 (ipykernel)",
   "language": "python",
   "name": "python3"
  },
  "language_info": {
   "codemirror_mode": {
    "name": "ipython",
    "version": 3
   },
   "file_extension": ".py",
   "mimetype": "text/x-python",
   "name": "python",
   "nbconvert_exporter": "python",
   "pygments_lexer": "ipython3",
   "version": "3.10.1"
  }
 },
 "nbformat": 4,
 "nbformat_minor": 5
}
