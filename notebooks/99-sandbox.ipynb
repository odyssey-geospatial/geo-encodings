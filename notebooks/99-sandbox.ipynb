{
 "cells": [
  {
   "cell_type": "code",
   "execution_count": null,
   "id": "014f4342-ba9a-4e4d-a04b-2704c7f3f2f3",
   "metadata": {},
   "outputs": [],
   "source": [
    "import numpy as np\n",
    "from scipy.sparse import csr_array"
   ]
  },
  {
   "cell_type": "code",
   "execution_count": null,
   "id": "292060a4-a418-4378-8b3c-713d35797754",
   "metadata": {},
   "outputs": [],
   "source": [
    "d = np.array([1, 3, 0, 0, 0, 5, 0, 6, 0, 0, 9])"
   ]
  },
  {
   "cell_type": "code",
   "execution_count": null,
   "id": "96b25bd7-5d40-4c54-91c4-9768c6f517fb",
   "metadata": {},
   "outputs": [],
   "source": [
    "s = csr_array(d)"
   ]
  },
  {
   "cell_type": "code",
   "execution_count": null,
   "id": "c645611b-9bd6-4c09-b6a3-e662f1f4517c",
   "metadata": {},
   "outputs": [],
   "source": [
    "# Create some sparse arrays.\n",
    "arrays = []\n",
    "for i in range(3):\n",
    "    arrays.append(csr_array(np.random.poisson(0.5, 20)))"
   ]
  },
  {
   "cell_type": "code",
   "execution_count": null,
   "id": "ef94f6d8-ecdf-459e-b039-a8d3ea04463d",
   "metadata": {},
   "outputs": [],
   "source": [
    "a = arrays[0] + arrays[1]"
   ]
  },
  {
   "cell_type": "code",
   "execution_count": null,
   "id": "2ab85701-6015-4414-91dd-051af3861fdf",
   "metadata": {},
   "outputs": [],
   "source": [
    "print(arrays[0].todense())\n",
    "print(arrays[1].todense())\n",
    "print(a.todense())\n"
   ]
  },
  {
   "cell_type": "code",
   "execution_count": null,
   "id": "47cc428b-4ad0-44a3-b90d-c36533f9290e",
   "metadata": {},
   "outputs": [],
   "source": [
    "from geo_encodings.encoders import MPPEncoder\n",
    "encoder = MPPEncoder(domain=[0, 0, 100, 100], resolution=20)\n",
    "\n",
    "import shapely\n",
    "g = shapely.from_wkt('POINT(23 37)')\n",
    "e = encoder.encode(g)\n",
    "print(e.values())"
   ]
  },
  {
   "cell_type": "code",
   "execution_count": null,
   "id": "416bd8b3-352b-4336-b1fa-c7411eb10631",
   "metadata": {},
   "outputs": [],
   "source": [
    "encoder.encode()"
   ]
  },
  {
   "cell_type": "code",
   "execution_count": null,
   "id": "fe32637d-8121-4dcf-868c-efef66df012e",
   "metadata": {},
   "outputs": [],
   "source": [
    "import shapely\n",
    "p = shapely.Point(3, 10)\n",
    "print(type(p))\n",
    "shapely.Geometry"
   ]
  },
  {
   "cell_type": "code",
   "execution_count": null,
   "id": "75af35ca-5ead-4d03-8593-606cf9957122",
   "metadata": {},
   "outputs": [],
   "source": [
    "isinstance(p, shapely.Geometry)"
   ]
  },
  {
   "cell_type": "code",
   "execution_count": null,
   "id": "d514d952-29d1-4cec-903c-53cddacb4b83",
   "metadata": {},
   "outputs": [],
   "source": [
    "import plotly.subplots\n",
    "fig = plotly.subplots.make_subplots(1, 1)\n",
    "type(fig)"
   ]
  },
  {
   "cell_type": "code",
   "execution_count": null,
   "id": "60d8c5bf-dd17-4b74-b830-48bcda9f7f16",
   "metadata": {},
   "outputs": [],
   "source": []
  }
 ],
 "metadata": {
  "kernelspec": {
   "display_name": "Python 3 (ipykernel)",
   "language": "python",
   "name": "python3"
  },
  "language_info": {
   "codemirror_mode": {
    "name": "ipython",
    "version": 3
   },
   "file_extension": ".py",
   "mimetype": "text/x-python",
   "name": "python",
   "nbconvert_exporter": "python",
   "pygments_lexer": "ipython3",
   "version": "3.12.4"
  }
 },
 "nbformat": 4,
 "nbformat_minor": 5
}
